{
 "cells": [
  {
   "cell_type": "markdown",
   "metadata": {
    "colab_type": "text",
    "id": "U2D8iajrGsj2"
   },
   "source": [
    "# Parte 0 - Instalação (usando Anaconda Python)\n",
    "\n",
    "Abaixo estão os comandos usados para instalar todas as dependências necessárias para esta aula. Se você não tem uma GPU NVidia troque `tensorflow-gpu` por `tensorflow`.\n",
    "\n",
    "    > conda create -n CV-NN python=3.6\n",
    "    > conda activate CV-NN\n",
    "    > conda install tensorflow-gpu scikit-learn jupyter[notebook] numpy keras\n",
    "\n",
    "Os comandos acima criam um ambiente virtual com Python 3.6 (3.7 não funciona ainda). Isto não é necessário, mas pode ser interessante para organizar melhor as dependências dos seus projetos. Uma vantagem de usar o Anaconda é que ele já instala o CUDA SDK automaticamente (no caso de usar `tensorflow-gpu`). \n",
    "\n",
    "# Parte 1 - Classificação categórica\n",
    "\n",
    "Na última atividade vimos um exemplo de **classificação binária**, em que classificamos imagens em pertencendo ou não a uma classe (*cachorros* vs *faces*). Nesta atividade exercitaremos a classificação em categorias e para isto usaremos um modelo que se adapta bem a este tipo de situação: *Regressão logística* e a *entropia categórica*.\n",
    "\n",
    "Além do scikit-learn, usado no roteiro passado, neste roteiro usaremos também a biblioteca [keras](http://keras.io) para treinar redes neurais que façam a classificação categórica de imagens de dígitos manuscritos. Veja abaixo o código para carregar os dados e um exemplo de imagem que usaremos."
   ]
  },
  {
   "cell_type": "code",
   "execution_count": 2,
   "metadata": {
    "colab": {
     "base_uri": "https://localhost:8080/",
     "height": 355
    },
    "colab_type": "code",
    "id": "-tDK1waCGsj9",
    "outputId": "ee310486-06d5-4343-878b-be452351e086"
   },
   "outputs": [
    {
     "name": "stderr",
     "output_type": "stream",
     "text": [
      "Using TensorFlow backend.\n",
      "/home/tirta/.local/lib/python3.6/site-packages/requests/__init__.py:91: RequestsDependencyWarning: urllib3 (1.24.1) or chardet (3.0.4) doesn't match a supported version!\n",
      "  RequestsDependencyWarning)\n"
     ]
    },
    {
     "name": "stdout",
     "output_type": "stream",
     "text": [
      "# Imagens: 60000\n",
      "Tamanho: (28, 28)\n",
      "Primeiro número: 5\n"
     ]
    },
    {
     "data": {
      "text/plain": [
       "<matplotlib.image.AxesImage at 0x7fee105a2cc0>"
      ]
     },
     "execution_count": 2,
     "metadata": {},
     "output_type": "execute_result"
    },
    {
     "data": {
      "image/png": "[encoded data removed]",
      "text/plain": [
       "<Figure size 432x288 with 1 Axes>"
      ]
     },
     "metadata": {},
     "output_type": "display_data"
    }
   ],
   "source": [
    "from keras.datasets import mnist\n",
    "import matplotlib.pyplot as plt\n",
    "%matplotlib inline\n",
    "\n",
    "(X, y), (Xt, yt) = mnist.load_data()\n",
    "print('# Imagens:', y.shape[0])\n",
    "print('Tamanho:', X[0].shape)\n",
    "print('Primeiro número:', y[0])\n",
    "plt.imshow(X[0], cmap='gray')"
   ]
  },
  {
   "cell_type": "markdown",
   "metadata": {
    "colab_type": "text",
    "id": "lHCcRGABGskU"
   },
   "source": [
    "Assim como na Atividade 3, dividimos as imagens disponíveis em um conjunto conhecido que usaremos para o treinamento de nossa rede (`X` e `y`) e um conjunto que só usaremos para avaliação (`Xt, yt`). Isto ajuda a não subestimar o erro em imagens desconhecidas. \n",
    "\n",
    "Nesta primeira parte iremos criar um modelo diretamente usando Regressão Logística. Para isto precisamos \"deitar\" a matriz da imagem $28\\times 28$ em um grande vetor de dimensão $784$. \n",
    "\n",
    "**Exercício**: Faça isto abaixo e salve os dados transformados como `Xlr` e `Xtlr`."
   ]
  },
  {
   "cell_type": "code",
   "execution_count": 0,
   "metadata": {
    "colab": {},
    "colab_type": "code",
    "id": "gYIOe9ZAGskX"
   },
   "outputs": [],
   "source": [
    "import numpy as np\n",
    "xlr = np.reshape(X,(X.shape[0],(X.shape[1]*X.shape[2])))\n",
    "xtlr = np.reshape(Xt,(Xt.shape[0],(Xt.shape[1]*Xt.shape[2])))"
   ]
  },
  {
   "cell_type": "markdown",
   "metadata": {
    "colab_type": "text",
    "id": "tugax6HyGskt"
   },
   "source": [
    "A classe `sklearn.linear_model.LogisticRegression` é capaz de lidar com os rótulos das classes diretamente. Basta enviar o vetor `y` diretamente para a função de treinamento. \n",
    "\n",
    "**Dica**: para usarmos o modelo visto em sala de aula precisamos setar o parâmetro `multi_class` como `'multinomial'`. O treinamento é mais rápido se usarmos o solver `'saga'`\n",
    "\n",
    "**Aviso**: o treinamento do modelo abaixo demora cerca de 5 minutos."
   ]
  },
  {
   "cell_type": "code",
   "execution_count": 0,
   "metadata": {
    "colab": {},
    "colab_type": "code",
    "id": "KnPvQdS2Gsky"
   },
   "outputs": [],
   "source": [
    "from sklearn.linear_model import LogisticRegression\n",
    "clf = LogisticRegression(solver='lbfgs', multi_class='multinomial').fit(xlr, y)"
   ]
  },
  {
   "cell_type": "markdown",
   "metadata": {
    "colab_type": "text",
    "id": "pDQWR6TQGsk8"
   },
   "source": [
    "Como visto na expositiva, a *Regressão Logística* estima a probabilidade que um objeto seja de uma determinada classe. No caso dos dígitos temos 10 classes (`0` a `9`), logo nossa saída deverá ter dimensão 10 e cada componente deverá conter a probabilidade da imagem ter o dígito correspondente. \n",
    "\n",
    "O método `predict_proba(X)` calcula a probabilidade de cada classe para um conjunto de imagens passado em `X` (um por linha). \n",
    "\n",
    "**Pergunta**: suponha que seu classificador retornou, para a imagem acima, o seguinte vetor ao chamar `predict_proba`:\n",
    "\n",
    "`[0, 0, 0, 0, 0, 0.6, 0.3, 0, 0, 0.1]`\n",
    "\n",
    "Interprete o resultado obtido."
   ]
  },
  {
   "cell_type": "markdown",
   "metadata": {
    "colab_type": "text",
    "id": "QlVusM8AGslD"
   },
   "source": [
    "A probabilidade de ser o numero 6 é maior, representando 60% de acerto, porém, tem uma menor probabilidade de ser o número 7 ou 9."
   ]
  },
  {
   "cell_type": "markdown",
   "metadata": {
    "colab_type": "text",
    "id": "DMQlwILYGslO"
   },
   "source": [
    "**Exercício**: Assim como feito na atividade 3, avalie os resultados de seu classificador usando a função `score` e comente os resultados."
   ]
  },
  {
   "cell_type": "code",
   "execution_count": 0,
   "metadata": {
    "colab": {
     "base_uri": "https://localhost:8080/",
     "height": 55
    },
    "colab_type": "code",
    "id": "ef4LT6ZBGslU",
    "outputId": "5fb836cb-fe07-4854-ef43-f59a56b25daf"
   },
   "outputs": [
    {
     "data": {
      "text/plain": [
       "0.9340666666666667"
      ]
     },
     "execution_count": 4,
     "metadata": {
      "tags": []
     },
     "output_type": "execute_result"
    }
   ],
   "source": [
    "clf.score(xlr,y)"
   ]
  },
  {
   "cell_type": "markdown",
   "metadata": {
    "colab_type": "text",
    "id": "WOH5UfNIGsle"
   },
   "source": [
    "Representa que possui 93% de acuracia"
   ]
  },
  {
   "cell_type": "markdown",
   "metadata": {
    "colab_type": "text",
    "id": "CGUkHyW0Gsll"
   },
   "source": [
    "**Exercício**: Suponha que você precisa ler um número de 5 dígitos. Usando o classificador acima, qual seria a probabilidade de que este número seja lido corretamente? Este resultado é satisfatório?"
   ]
  },
  {
   "cell_type": "markdown",
   "metadata": {
    "colab_type": "text",
    "id": "tDLZseZ8Gslx"
   },
   "source": [
    "71%, não muito satisfátirio"
   ]
  },
  {
   "cell_type": "markdown",
   "metadata": {
    "colab_type": "text",
    "id": "Pw_JNrZRGsl5"
   },
   "source": [
    "# Parte 2 - Redes Neurais Multi-nível"
   ]
  },
  {
   "cell_type": "markdown",
   "metadata": {
    "colab_type": "text",
    "id": "UZiuWwU1GsmA"
   },
   "source": [
    "**Aviso**: nos próximos exercícios usaremos a biblioteca [keras]\n",
    "\n",
    "Nesta parte iremos criar uma rede neural \"simples\" com vários níveis. Diferentemente do classificador do *Scikit-learn*, ao trabalhar com redes neurais precisamos trabalhar com as probabilidades de maneira explícita. Para isto precisamos transformar nosso vetor de saída (que contém o número escrito na imagem) em uma matriz de classes binária.\n",
    "\n",
    "**Exercício**: Pesquise o que é uma matriz de classes binária (também conhecida como *one hot encoding*)"
   ]
  },
  {
   "cell_type": "markdown",
   "metadata": {
    "colab_type": "text",
    "id": "igeCuc57GsmD"
   },
   "source": [
    "https://hackernoon.com/what-is-one-hot-encoding-why-and-when-do-you-have-to-use-it-e3c6186d008f\n",
    "\n",
    "É um processo que converte variáveis em tabelas binárias para facilitar na previsão. Ou seja, essa matriz de classes binárias é uma ferramenta que aumentará a probabilidade de acerto da previsão"
   ]
  },
  {
   "cell_type": "markdown",
   "metadata": {
    "colab_type": "text",
    "id": "0IaThGLoGsmL"
   },
   "source": [
    "**Exercício**: Use a função `to_categorical` do keras para converter `y` para uma matriz de classes binária `y_oe`. Faça o mesmo com `yt`"
   ]
  },
  {
   "cell_type": "code",
   "execution_count": 0,
   "metadata": {
    "colab": {},
    "colab_type": "code",
    "id": "3P2VJo4NGsmN"
   },
   "outputs": [],
   "source": [
    "from keras.utils import to_categorical\n",
    "y_oe=to_categorical(y)\n",
    "yt_oe=to_categorical(yt)"
   ]
  },
  {
   "cell_type": "markdown",
   "metadata": {
    "colab_type": "text",
    "id": "G1sH7wjqGsmc"
   },
   "source": [
    "**Exercício**: os dados das imagens estão no intervalo $[0,255]$. Transforme-os para estarem no intervalor $[0, 1]$. Redes neurais tem melhor desempenho no intervalo menor. Salve os dados como `Xnn` e `Xtnn`"
   ]
  },
  {
   "cell_type": "code",
   "execution_count": 0,
   "metadata": {
    "colab": {},
    "colab_type": "code",
    "id": "AmBabuHkGsmh"
   },
   "outputs": [],
   "source": [
    "xnn = xlr/255.0\n",
    "xtnn = xtlr/255.0"
   ]
  },
  {
   "cell_type": "markdown",
   "metadata": {
    "colab_type": "text",
    "id": "Q5D4f2TeGsmn"
   },
   "source": [
    "Nossa rede neural irá retornar, como saída, um vetor de dimensão 10 igual as linhas de `y_oe`.\n",
    "\n",
    "----\n",
    "\n",
    "Vamos agora construir a arquitetura de nossa rede neural. Seguiremos as seguintes instruções:\n",
    "\n",
    "1. Nosso modelo será representado pela classe `Sequential`, que é uma lista de camadas tal que a saída de uma camada é passada diretamente para a próxima.\n",
    "1. Cada camada será do tipo `Dense`, ou seja, cada nó da camada está ligado a todos os nós da camada anterior. A função de ativação usada será `'relu'.`\n",
    "1. A saída será uma camada `Dense` também, mas com ativação `'softmax'`. Esta função de ativação computa as mesmas probabilidades da Regressão Logística.\n",
    "\n",
    "\n",
    "**Exercício**: instancie um objeto de `Sequential` e use seu método `add()` para adicionar uma camada densa de tamanho $784$ e uma camada densa de saída. \n",
    "\n",
    "**Dica**: \n",
    "1. veja as documentações das classes [`Sequential`](https://keras.io/getting-started/sequential-model-guide/) e [`Dense`](https://keras.io/layers/core/#dense). As possíveis funções de ativação são mostradas [neste link](https://keras.io/activations/). \n",
    "2. Ao adicionar a primeira camada é preciso dizer qual é o tamanho da entrada da rede. Isto pode ser feito usando o argumento `input_dim` de `Dense()`\n",
    "2. `Sequential.add()` é capaz de adivinhar o tamanho da entrada das próximas camadas baseado nos parâmetros passados. \n",
    "3. A camada de saída deve ter tamanho igual ao número de classes usadas (10, uma para cada dígito)."
   ]
  },
  {
   "cell_type": "code",
   "execution_count": 0,
   "metadata": {
    "colab": {},
    "colab_type": "code",
    "id": "3-cmWVCQGsmp"
   },
   "outputs": [],
   "source": [
    "from keras.models import Sequential\n",
    "from keras.layers import Dense, Activation\n",
    "\n",
    "model = Sequential()\n",
    "model.add(Dense(784, input_dim=784))\n",
    "model.add(Activation('relu'))\n",
    "model.add(Dense(10))\n",
    "model.add(Activation('softmax'))"
   ]
  },
  {
   "cell_type": "markdown",
   "metadata": {
    "colab_type": "text",
    "id": "mloSj_XwGsmt"
   },
   "source": [
    "Com nosso modelo pronto precisamos definir quais serão as opções usadas em seu treinamento. Fazemos isto com o método `compile`. A chamada abaixo já foi configurada supondo que sua rede se chama `model`."
   ]
  },
  {
   "cell_type": "code",
   "execution_count": 0,
   "metadata": {
    "colab": {},
    "colab_type": "code",
    "id": "OPrWK242Gsmv"
   },
   "outputs": [],
   "source": [
    "# For a multi-class classification problem\n",
    "model.compile(optimizer='rmsprop',\n",
    "              loss='categorical_crossentropy',\n",
    "              metrics=['accuracy'])"
   ]
  },
  {
   "cell_type": "markdown",
   "metadata": {
    "colab_type": "text",
    "id": "YoTUyzzQGsm2"
   },
   "source": [
    "Vamos então treinar nosso modelo. Seguimos o mesmo padrão do *scikit-learn*, ou seja, chamamos o método `fit` com os dados de treinamento `Xlr` e `y_oe`. Iremos treinar com os seguintes argumentos: `batch_size=200, epochs=10`. Se quiser ter um relatório detalhado do progresso, adicione `verbose=2`."
   ]
  },
  {
   "cell_type": "code",
   "execution_count": 0,
   "metadata": {
    "colab": {
     "base_uri": "https://localhost:8080/",
     "height": 395
    },
    "colab_type": "code",
    "id": "ofqup52SGsm8",
    "outputId": "b8a9dea3-56f9-4b6d-e02b-844aa333b288"
   },
   "outputs": [
    {
     "name": "stdout",
     "output_type": "stream",
     "text": [
      "Epoch 1/10\n",
      " - 3s - loss: 0.2784 - acc: 0.9185\n",
      "Epoch 2/10\n",
      " - 2s - loss: 0.1065 - acc: 0.9683\n",
      "Epoch 3/10\n",
      " - 2s - loss: 0.0689 - acc: 0.9797\n",
      "Epoch 4/10\n",
      " - 2s - loss: 0.0489 - acc: 0.9850\n",
      "Epoch 5/10\n",
      " - 2s - loss: 0.0352 - acc: 0.9897\n",
      "Epoch 6/10\n",
      " - 2s - loss: 0.0268 - acc: 0.9921\n",
      "Epoch 7/10\n",
      " - 2s - loss: 0.0201 - acc: 0.9942\n",
      "Epoch 8/10\n",
      " - 2s - loss: 0.0152 - acc: 0.9956\n",
      "Epoch 9/10\n",
      " - 2s - loss: 0.0118 - acc: 0.9965\n",
      "Epoch 10/10\n",
      " - 2s - loss: 0.0092 - acc: 0.9974\n"
     ]
    },
    {
     "data": {
      "text/plain": [
       "<keras.callbacks.History at 0x7fd19feaf400>"
      ]
     },
     "execution_count": 9,
     "metadata": {
      "tags": []
     },
     "output_type": "execute_result"
    }
   ],
   "source": [
    "model.fit(xnn,y_oe,200,10,2)"
   ]
  },
  {
   "cell_type": "markdown",
   "metadata": {
    "colab_type": "text",
    "id": "Yzu8HrSsGsnY"
   },
   "source": [
    "**Exercício**: Use o método [`model.evaluate`](https://keras.io/models/model/#evaluate) para avaliar a rede neural treinada e avalie seus resultados levando em conta a mesma situação da Parte 1 (leitura de número com 5 dígitos)."
   ]
  },
  {
   "cell_type": "code",
   "execution_count": 0,
   "metadata": {
    "colab": {
     "base_uri": "https://localhost:8080/",
     "height": 53
    },
    "colab_type": "code",
    "id": "HFE3MeAvGsnb",
    "outputId": "42aea052-ac85-4dd6-b2b0-773c8e2b0fa4"
   },
   "outputs": [
    {
     "name": "stdout",
     "output_type": "stream",
     "text": [
      "60000/60000 [==============================] - 4s 64us/step\n"
     ]
    },
    {
     "data": {
      "text/plain": [
       "[0.007308363150974522, 0.99785]"
      ]
     },
     "execution_count": 10,
     "metadata": {
      "tags": []
     },
     "output_type": "execute_result"
    }
   ],
   "source": [
    "model.evaluate(xnn,y_oe)"
   ]
  },
  {
   "cell_type": "markdown",
   "metadata": {
    "colab_type": "text",
    "id": "l1NMlH9oGsnk"
   },
   "source": [
    "# Parte 3 - Redes Convolucionais"
   ]
  },
  {
   "cell_type": "markdown",
   "metadata": {
    "colab_type": "text",
    "id": "dbckcVZWGsnr"
   },
   "source": [
    "Redes convolucionais são redes neurais cujas camadas fazem operações que podem ser interpretadas como processamentos de imagens.\n",
    "\n",
    "* Conv2D - equivale a uma convolução, ou seja, uma combinação linear dos pixels na vizinhança de cada pixel\n",
    "* MaxPooling2d - equivale a redimensionar a imagem para metade de sua altura e largura.\n",
    "* Flatten - transforma a imagem em um vetor unidimensional. \n",
    "\n",
    "Redes Convolucionais são, normalmente, bastante complexas. Por isto nesta parte da atividade iremos trabalhar em cima de uma rede pré-configurada. Nossos exercícios serão treiná-la com um número crescente de épocas e adicionar ou remover camadas. \n",
    "\n",
    "Veja abaixo uma rede contendo uma camada de cada um dos tipos mostrados acima. "
   ]
  },
  {
   "cell_type": "code",
   "execution_count": 0,
   "metadata": {
    "colab": {},
    "colab_type": "code",
    "id": "aW12Naf1Gsny"
   },
   "outputs": [],
   "source": [
    "from keras.layers.convolutional import Conv2D\n",
    "from keras.layers.convolutional import MaxPooling2D\n",
    "from keras.layers import Flatten\n",
    "from keras import backend as K\n",
    "K.set_image_dim_ordering('th')\n",
    "\n",
    "model_cnn = Sequential()\n",
    "model_cnn.add(Conv2D(32, (5, 5), input_shape=(1, 28, 28), activation='relu'))\n",
    "model_cnn.add(MaxPooling2D(pool_size=(2, 2)))\n",
    "model_cnn.add(Flatten())\n",
    "model_cnn.add(Dense(128, activation='relu'))\n",
    "model_cnn.add(Dense(10, activation='softmax'))\n",
    "model_cnn.compile(loss='categorical_crossentropy', optimizer='adam', metrics=['accuracy'])"
   ]
  },
  {
   "cell_type": "markdown",
   "metadata": {
    "colab_type": "text",
    "id": "MivqtWaCGsn5"
   },
   "source": [
    "Assim como a rede anterior, este modelo depende dos dados estarem em um formato específico. As imagens devem estar no formato $(C, H, W)$, onde $C$ é o número de canais (1 para níveis de cinza, 3 para RGB) e $H$ e $W$ são a altura e largura da imagem. O treinamento é feito usando o método `model_cnn.fit`, igual ao exercício anterior.\n",
    "\n",
    "**Exercício**: faça o treinamento da rede acima para 1 época."
   ]
  },
  {
   "cell_type": "code",
   "execution_count": 0,
   "metadata": {
    "colab": {
     "base_uri": "https://localhost:8080/",
     "height": 89
    },
    "colab_type": "code",
    "id": "IP-zPYEHGsn8",
    "outputId": "cbd277fa-3d82-4c49-aabb-38eaaeaaf40a"
   },
   "outputs": [
    {
     "name": "stdout",
     "output_type": "stream",
     "text": [
      "Train on 60000 samples, validate on 10000 samples\n",
      "Epoch 1/1\n",
      " - 4s - loss: 0.2400 - acc: 0.9317 - val_loss: 0.0755 - val_acc: 0.9784\n"
     ]
    },
    {
     "data": {
      "text/plain": [
       "<keras.callbacks.History at 0x7fd194abc2e8>"
      ]
     },
     "execution_count": 12,
     "metadata": {
      "tags": []
     },
     "output_type": "execute_result"
    }
   ],
   "source": [
    "Xcnn = xnn.reshape(xnn.shape[0], 1, 28, 28).astype('float32')\n",
    "Xtcnn = xtnn.reshape(xtnn.shape[0], 1, 28, 28).astype('float32')\n",
    "\n",
    "model_cnn.fit(Xcnn, y_oe, validation_data=(Xtcnn, yt_oe), batch_size=200, verbose=2, epochs=1)"
   ]
  },
  {
   "cell_type": "markdown",
   "metadata": {
    "colab_type": "text",
    "id": "xz3hUXeYGsoD"
   },
   "source": [
    "**Exercício**: faça agora o treinamento para 10 épocas. Os resultados melhoraram?"
   ]
  },
  {
   "cell_type": "code",
   "execution_count": 0,
   "metadata": {
    "colab": {
     "base_uri": "https://localhost:8080/",
     "height": 413
    },
    "colab_type": "code",
    "id": "i9ToICkNGsoU",
    "outputId": "0f4ca31a-0fb8-416b-8ab4-5df4c51d8a05"
   },
   "outputs": [
    {
     "name": "stdout",
     "output_type": "stream",
     "text": [
      "Train on 60000 samples, validate on 10000 samples\n",
      "Epoch 1/10\n",
      " - 3s - loss: 0.0661 - acc: 0.9801 - val_loss: 0.0544 - val_acc: 0.9821\n",
      "Epoch 2/10\n",
      " - 3s - loss: 0.0449 - acc: 0.9866 - val_loss: 0.0425 - val_acc: 0.9852\n",
      "Epoch 3/10\n",
      " - 3s - loss: 0.0345 - acc: 0.9901 - val_loss: 0.0362 - val_acc: 0.9881\n",
      "Epoch 4/10\n",
      " - 3s - loss: 0.0270 - acc: 0.9917 - val_loss: 0.0340 - val_acc: 0.9885\n",
      "Epoch 5/10\n",
      " - 3s - loss: 0.0217 - acc: 0.9931 - val_loss: 0.0394 - val_acc: 0.9877\n",
      "Epoch 6/10\n",
      " - 3s - loss: 0.0171 - acc: 0.9947 - val_loss: 0.0443 - val_acc: 0.9860\n",
      "Epoch 7/10\n",
      " - 3s - loss: 0.0140 - acc: 0.9956 - val_loss: 0.0355 - val_acc: 0.9891\n",
      "Epoch 8/10\n",
      " - 3s - loss: 0.0108 - acc: 0.9969 - val_loss: 0.0320 - val_acc: 0.9895\n",
      "Epoch 9/10\n",
      " - 3s - loss: 0.0084 - acc: 0.9974 - val_loss: 0.0365 - val_acc: 0.9883\n",
      "Epoch 10/10\n",
      " - 3s - loss: 0.0063 - acc: 0.9983 - val_loss: 0.0383 - val_acc: 0.9895\n"
     ]
    },
    {
     "data": {
      "text/plain": [
       "<keras.callbacks.History at 0x7fd1d9e0af28>"
      ]
     },
     "execution_count": 13,
     "metadata": {
      "tags": []
     },
     "output_type": "execute_result"
    }
   ],
   "source": [
    "model_cnn.fit(Xcnn, y_oe, validation_data=(Xtcnn, yt_oe), batch_size=200, verbose=2, epochs=10)"
   ]
  },
  {
   "cell_type": "markdown",
   "metadata": {
    "colab_type": "text",
    "id": "nLyLPAx2Gsob"
   },
   "source": [
    "**Exercício**: Os parâmetros de uma camada `Conv2D` são\n",
    "\n",
    "1. o número de filtors de convolução usados\n",
    "1. a dimensão dos filtros (como uma tupla)\n",
    "1. a função de ativação (sempre usaremos 'relu')\n",
    "\n",
    "Crie um novo modelo com uma camada de convolução a mais após a camada de `MaxPooling`. Seu modelo deverá fazer 20 convoluções na primeira camada e 20 na segunda. Treine uma época do modelo e compare com o modelo de exemplos. Os resultados são melhores? E se 10 épocas forem executadas?"
   ]
  },
  {
   "cell_type": "code",
   "execution_count": 0,
   "metadata": {
    "colab": {},
    "colab_type": "code",
    "id": "VC_mRy-BGsod"
   },
   "outputs": [],
   "source": [
    "new_model_cnn = Sequential()\n",
    "new_model_cnn.add(Conv2D(20, (5, 5), input_shape=(1, 28, 28), activation='relu'))\n",
    "new_model_cnn.add(MaxPooling2D(pool_size=(2, 2)))\n",
    "new_model_cnn.add(Conv2D(20, (5, 5), input_shape=(1, 28, 28), activation='relu'))\n",
    "new_model_cnn.add(Flatten())\n",
    "new_model_cnn.add(Dense(128, activation='relu'))\n",
    "new_model_cnn.add(Dense(10, activation='softmax'))\n",
    "new_model_cnn.compile(loss='categorical_crossentropy', optimizer='adam', metrics=['accuracy'])"
   ]
  },
  {
   "cell_type": "code",
   "execution_count": 0,
   "metadata": {
    "colab": {
     "base_uri": "https://localhost:8080/",
     "height": 89
    },
    "colab_type": "code",
    "id": "STMJZlcrcNwj",
    "outputId": "cfafa24e-f11b-4f13-fa37-5971b8226c05"
   },
   "outputs": [
    {
     "name": "stdout",
     "output_type": "stream",
     "text": [
      "Train on 60000 samples, validate on 10000 samples\n",
      "Epoch 1/1\n",
      " - 4s - loss: 0.2659 - acc: 0.9264 - val_loss: 0.0681 - val_acc: 0.9782\n"
     ]
    },
    {
     "data": {
      "text/plain": [
       "<keras.callbacks.History at 0x7fd1946432e8>"
      ]
     },
     "execution_count": 15,
     "metadata": {
      "tags": []
     },
     "output_type": "execute_result"
    }
   ],
   "source": [
    "new_model_cnn.fit(Xcnn, y_oe, validation_data=(Xtcnn, yt_oe), batch_size=200, verbose=2, epochs=1)"
   ]
  },
  {
   "cell_type": "code",
   "execution_count": 0,
   "metadata": {
    "colab": {
     "base_uri": "https://localhost:8080/",
     "height": 413
    },
    "colab_type": "code",
    "id": "qmm7fw9kcapB",
    "outputId": "c1d7b7a3-ae58-4c0f-9766-841d320a5d4d"
   },
   "outputs": [
    {
     "name": "stdout",
     "output_type": "stream",
     "text": [
      "Train on 60000 samples, validate on 10000 samples\n",
      "Epoch 1/10\n",
      " - 3s - loss: 0.0650 - acc: 0.9802 - val_loss: 0.0398 - val_acc: 0.9877\n",
      "Epoch 2/10\n",
      " - 3s - loss: 0.0441 - acc: 0.9862 - val_loss: 0.0344 - val_acc: 0.9886\n",
      "Epoch 3/10\n",
      " - 3s - loss: 0.0334 - acc: 0.9898 - val_loss: 0.0361 - val_acc: 0.9884\n",
      "Epoch 4/10\n",
      " - 3s - loss: 0.0288 - acc: 0.9908 - val_loss: 0.0371 - val_acc: 0.9883\n",
      "Epoch 5/10\n",
      " - 3s - loss: 0.0243 - acc: 0.9922 - val_loss: 0.0388 - val_acc: 0.9885\n",
      "Epoch 6/10\n",
      " - 3s - loss: 0.0191 - acc: 0.9940 - val_loss: 0.0335 - val_acc: 0.9898\n",
      "Epoch 7/10\n",
      " - 3s - loss: 0.0168 - acc: 0.9945 - val_loss: 0.0277 - val_acc: 0.9910\n",
      "Epoch 8/10\n",
      " - 3s - loss: 0.0137 - acc: 0.9958 - val_loss: 0.0370 - val_acc: 0.9895\n",
      "Epoch 9/10\n",
      " - 3s - loss: 0.0127 - acc: 0.9959 - val_loss: 0.0300 - val_acc: 0.9915\n",
      "Epoch 10/10\n",
      " - 3s - loss: 0.0101 - acc: 0.9966 - val_loss: 0.0368 - val_acc: 0.9903\n"
     ]
    },
    {
     "data": {
      "text/plain": [
       "<keras.callbacks.History at 0x7fd1941b5940>"
      ]
     },
     "execution_count": 16,
     "metadata": {
      "tags": []
     },
     "output_type": "execute_result"
    }
   ],
   "source": [
    "new_model_cnn.fit(Xcnn, y_oe, validation_data=(Xtcnn, yt_oe), batch_size=200, verbose=2, epochs=10)"
   ]
  },
  {
   "cell_type": "markdown",
   "metadata": {
    "colab_type": "text",
    "id": "hL3JFxEgGsoh"
   },
   "source": [
    "**Exercício**: Os parâmetros de uma camada `MaxPooling2D` são\n",
    "\n",
    "1. uma tupla contendo a vizinhança usada para fazer o redimensionamento. \n",
    "\n",
    "Crie um novo modelo baseado no acima que adiciona uma camada deste tipo com os mesmos parâmetros da primeira após a segunda convolução e treine uma época dele. Os resultados são melhores? E com 10 épocas? Como o tempo de treinamento é afetado?"
   ]
  },
  {
   "cell_type": "code",
   "execution_count": 0,
   "metadata": {
    "colab": {},
    "colab_type": "code",
    "id": "j4YuHB8NGsoj"
   },
   "outputs": [],
   "source": [
    "new_model_cnn = Sequential()\n",
    "new_model_cnn.add(Conv2D(20, (5, 5), input_shape=(1, 28, 28), activation='relu'))\n",
    "new_model_cnn.add(MaxPooling2D(pool_size=(2, 2)))\n",
    "new_model_cnn.add(Conv2D(20, (5, 5), input_shape=(1, 28, 28), activation='relu'))\n",
    "new_model_cnn.add(MaxPooling2D(pool_size=(2, 2)))\n",
    "new_model_cnn.add(Flatten())\n",
    "new_model_cnn.add(Dense(128, activation='relu'))\n",
    "new_model_cnn.add(Dense(10, activation='softmax'))\n",
    "new_model_cnn.compile(loss='categorical_crossentropy', optimizer='adam', metrics=['accuracy'])"
   ]
  },
  {
   "cell_type": "code",
   "execution_count": 0,
   "metadata": {
    "colab": {
     "base_uri": "https://localhost:8080/",
     "height": 89
    },
    "colab_type": "code",
    "id": "1sU2JwljebCH",
    "outputId": "4e693f9f-fd59-4466-a171-cade64d807c7"
   },
   "outputs": [
    {
     "name": "stdout",
     "output_type": "stream",
     "text": [
      "Train on 60000 samples, validate on 10000 samples\n",
      "Epoch 1/1\n",
      " - 4s - loss: 0.3466 - acc: 0.9001 - val_loss: 0.1374 - val_acc: 0.9572\n"
     ]
    },
    {
     "data": {
      "text/plain": [
       "<keras.callbacks.History at 0x7fd1941b5c18>"
      ]
     },
     "execution_count": 18,
     "metadata": {
      "tags": []
     },
     "output_type": "execute_result"
    }
   ],
   "source": [
    "new_model_cnn.fit(Xcnn, y_oe, validation_data=(Xtcnn, yt_oe), batch_size=200, verbose=2, epochs=1)"
   ]
  },
  {
   "cell_type": "code",
   "execution_count": 0,
   "metadata": {
    "colab": {
     "base_uri": "https://localhost:8080/",
     "height": 413
    },
    "colab_type": "code",
    "id": "AsUI583LebF6",
    "outputId": "b5136edc-3534-4ea5-db8f-4e2fb0796029"
   },
   "outputs": [
    {
     "name": "stdout",
     "output_type": "stream",
     "text": [
      "Train on 60000 samples, validate on 10000 samples\n",
      "Epoch 1/10\n",
      " - 3s - loss: 0.0860 - acc: 0.9743 - val_loss: 0.0607 - val_acc: 0.9804\n",
      "Epoch 2/10\n",
      " - 3s - loss: 0.0592 - acc: 0.9817 - val_loss: 0.0467 - val_acc: 0.9840\n",
      "Epoch 3/10\n",
      " - 3s - loss: 0.0467 - acc: 0.9858 - val_loss: 0.0434 - val_acc: 0.9855\n",
      "Epoch 4/10\n",
      " - 3s - loss: 0.0386 - acc: 0.9885 - val_loss: 0.0376 - val_acc: 0.9879\n",
      "Epoch 5/10\n",
      " - 3s - loss: 0.0330 - acc: 0.9897 - val_loss: 0.0335 - val_acc: 0.9894\n",
      "Epoch 6/10\n",
      " - 3s - loss: 0.0294 - acc: 0.9908 - val_loss: 0.0316 - val_acc: 0.9900\n",
      "Epoch 7/10\n",
      " - 3s - loss: 0.0256 - acc: 0.9920 - val_loss: 0.0364 - val_acc: 0.9893\n",
      "Epoch 8/10\n",
      " - 3s - loss: 0.0225 - acc: 0.9932 - val_loss: 0.0307 - val_acc: 0.9893\n",
      "Epoch 9/10\n",
      " - 3s - loss: 0.0197 - acc: 0.9936 - val_loss: 0.0311 - val_acc: 0.9895\n",
      "Epoch 10/10\n",
      " - 3s - loss: 0.0168 - acc: 0.9948 - val_loss: 0.0276 - val_acc: 0.9905\n"
     ]
    },
    {
     "data": {
      "text/plain": [
       "<keras.callbacks.History at 0x7fd19432ea90>"
      ]
     },
     "execution_count": 19,
     "metadata": {
      "tags": []
     },
     "output_type": "execute_result"
    }
   ],
   "source": [
    "new_model_cnn.fit(Xcnn, y_oe, validation_data=(Xtcnn, yt_oe), batch_size=200, verbose=2, epochs=10)"
   ]
  },
  {
   "cell_type": "markdown",
   "metadata": {
    "colab_type": "text",
    "id": "neO7keJ0Gson"
   },
   "source": [
    "Testar diversas arquiteturas é uma tarefa muito comum em Visão Computacional. \n",
    "\n",
    "**Exercício**: Compare os resultados de sua melhor rede com os resultados das duas partes anteriores. Qual foi o ganho de acurácia no problema da leitura do número com 5 dígitos?"
   ]
  },
  {
   "cell_type": "markdown",
   "metadata": {
    "colab_type": "text",
    "id": "a1sfNzuvGsox"
   },
   "source": [
    "# Parte final\n",
    "\n",
    "**Exercício**: tire uma foto de 5 números escritos à mão por você. Separe cada um dos números, redimensione-os para uma imagem $28\\times 28$, passe cada um pelo seu melhor modelo desta aula e retorne a leitura do número por inteiro.\n",
    "\n",
    "**Dica**: sua foto pode conter somente a folha em branco e os dígitos em preto. Você pode supor que nenhuma parte de um dígito encosta no outro e que a imagem é binarizável usando uma operação simples de limiar (*threshold*)."
   ]
  },
  {
   "cell_type": "code",
   "execution_count": 4,
   "metadata": {
    "colab": {},
    "colab_type": "code",
    "id": "Ewaf5eskGso3"
   },
   "outputs": [
    {
     "data": {
      "text/plain": [
       "<matplotlib.image.AxesImage at 0x7fee0889bdd8>"
      ]
     },
     "execution_count": 4,
     "metadata": {},
     "output_type": "execute_result"
    },
    {
     "data": {
      "image/png": "[encoded data removed]",
      "text/plain": [
       "<Figure size 432x288 with 1 Axes>"
      ]
     },
     "metadata": {},
     "output_type": "display_data"
    }
   ],
   "source": [
    "import cv2\n",
    "img = cv2.imread(\"numbers.jpeg\")\n",
    "plt.imshow(img)"
   ]
  },
  {
   "cell_type": "code",
   "execution_count": 0,
   "metadata": {
    "colab": {},
    "colab_type": "code",
    "id": "76BmQTA_oQCm"
   },
   "outputs": [],
   "source": []
  }
 ],
 "metadata": {
  "accelerator": "GPU",
  "colab": {
   "collapsed_sections": [],
   "name": "20-Redes-Neurais(2).ipynb",
   "provenance": [],
   "toc_visible": true,
   "version": "0.3.2"
  },
  "kernelspec": {
   "display_name": "Python 3",
   "language": "python",
   "name": "python3"
  },
  "language_info": {
   "codemirror_mode": {
    "name": "ipython",
    "version": 3
   },
   "file_extension": ".py",
   "mimetype": "text/x-python",
   "name": "python",
   "nbconvert_exporter": "python",
   "pygments_lexer": "ipython3",
   "version": "3.6.6"
  }
 },
 "nbformat": 4,
 "nbformat_minor": 1
}
