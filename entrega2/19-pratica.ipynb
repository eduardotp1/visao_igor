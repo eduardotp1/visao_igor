{
 "cells": [
  {
   "cell_type": "markdown",
   "metadata": {},
   "source": [
    "# 19 - Classificação de imagens com Bag of Visual Words\n",
    "\n",
    "Este roteiro complementa a aula 17 e mostra alguns exemplos iniciais de classificação de imagens usando o modelo bag of words.\n",
    "\n",
    "# Parte 0 - revisão\n",
    "\n",
    "Crie funções auxiliares usando o conteúdo da *Atividade 2*:\n",
    "\n",
    "1. `def cria_vocabulario(path_images)`: recebe uma lista de imagens de treinamento e devolve um objeto `sklearn.KMeans` contendo os centróides de cada palavra no vocabulário.\n",
    "2. `def representa(vocab, imagem)`: cria a representação em histograma de uma imagem usando os centróides do objeto `vocab` (criado pela função acima)"
   ]
  },
  {
   "cell_type": "code",
   "execution_count": 7,
   "metadata": {},
   "outputs": [],
   "source": [
    "import matplotlib.pyplot as plt\n",
    "import numpy as np\n",
    "import cv2\n",
    "from collections import namedtuple\n",
    "import os, sys\n",
    "from random import shuffle\n",
    "from sklearn.cluster import KMeans\n",
    "\n",
    "\n",
    "def computa_descritores(img):\n",
    "    surf = cv2.xfeatures2d.SURF_create()\n",
    "    kp, des = surf.detectAndCompute(img, None)    \n",
    "    return des\n",
    "\n",
    "def le_descritores_imagens(pastas, max_items = 5):\n",
    "    list_Names  = []\n",
    "    list_Matrix = []\n",
    "    list_Imgs   = []\n",
    "    Tuple = namedtuple('Tupla', 'listNames, matrix ')\n",
    "    \n",
    "    for pasta in pastas:\n",
    "        dir_Name = \"../aula17/101_ObjectCategories/\" + pasta + '/'\n",
    "        img_Name = os.listdir(dir_Name)\n",
    "        #shuffle(img_Name)\n",
    "            \n",
    "        for i in range(max_items):\n",
    "            if(img_Name[i][0]==\".\"):\n",
    "                img_Name[i]=img_Name[i][2:]\n",
    "            name = dir_Name + img_Name[i]\n",
    "            list_Imgs.append(cv2.imread(name))\n",
    "            list_Names.append(name)\n",
    "            \n",
    "    for img in list_Imgs:\n",
    "        list_Matrix.append(computa_descritores(img))\n",
    "    \n",
    "    tup = Tuple(list_Names, np.concatenate(list_Matrix)) \n",
    "    return tup\n",
    "\n",
    "def cria_vocabulario(descritores, sz = 300):                \n",
    "\n",
    "    Tuple = namedtuple('Tupla', 'matrix kmeans')\n",
    "    kmeans = KMeans(n_clusters = sz, random_state=0).fit(descritores)\n",
    "    tup = Tuple(kmeans.cluster_centers_ , kmeans)\n",
    "\n",
    "    return tup\n",
    "\n",
    "def representa_histograma(img, vocab):\n",
    "    img = cv2.imread(img)\n",
    "    desc = computa_descritores(img)\n",
    "    \n",
    "    dist = vocab.kmeans.predict(desc)\n",
    "    \n",
    "    list_freq = [0] * 300\n",
    "    \n",
    "    for i in dist:\n",
    "        list_freq[i] += 1\n",
    "   \n",
    "    return list_freq"
   ]
  },
  {
   "cell_type": "markdown",
   "metadata": {},
   "source": [
    "# Parte 1 - Classificação Binária\n",
    "\n",
    "Nesta parte iremos usar as imagens da base *Caltech 101* usada na *Atividade 2*. Em especial, iremos usar as 50 primeiras imagens das seguintes pastas: `[dalmatian, Faces_easy]`. Ou seja, diferenciaremos cachorros de rostos.\n",
    "\n",
    "**Exercício**: crie uma lista dos caminhos das primeiras 50 imagens das duas pastas."
   ]
  },
  {
   "cell_type": "code",
   "execution_count": 8,
   "metadata": {},
   "outputs": [],
   "source": [
    "folder = ['dalmatian', 'Faces_easy']\n",
    "descriptor = le_descritores_imagens(folder)"
   ]
  },
  {
   "cell_type": "markdown",
   "metadata": {},
   "source": [
    "**Exercício**: use suas funções da parte 0 para criar um vocabulário e representar cada imagem da lista como um histograma. Salve seu resultado em uma matriz **X** tal que a linha *i* da matriz seja o histograma da imagem *i* na lista acima. "
   ]
  },
  {
   "cell_type": "code",
   "execution_count": null,
   "metadata": {},
   "outputs": [],
   "source": []
  },
  {
   "cell_type": "markdown",
   "metadata": {},
   "source": [
    "Como já visto em ciência dos dados, é muitas vezes importante transformar nossos dados para que eles tenham média 0 e variância 1. \n",
    "\n",
    "**Exercício**: Faça esse transformação em **X** e salve na variável **X_std**. Não se esqueça de guardar, explicitamente, os valores de média e variância encontrados. \n",
    "\n",
    "*Dica*: o scikit-learn possui a classe [StandardScaler](http://scikit-learn.org/stable/modules/generated/sklearn.preprocessing.StandardScaler.html) que já faz exatamente isto. Você pode usá-la neste exercício se quiser. "
   ]
  },
  {
   "cell_type": "code",
   "execution_count": null,
   "metadata": {},
   "outputs": [],
   "source": []
  },
  {
   "cell_type": "markdown",
   "metadata": {},
   "source": [
    "Agora que temos uma representação para cada imagem, precisamos criar uma lista contendo os rótulos corretos de cada imagem.\n",
    "\n",
    "**Exercício**: crie um vetor **y** tal que o índice *i* seja -1 se a imagem *i* na lista for um rosto e *1* se a imagem *i* for um cachorro."
   ]
  },
  {
   "cell_type": "code",
   "execution_count": null,
   "metadata": {},
   "outputs": [],
   "source": []
  },
  {
   "cell_type": "markdown",
   "metadata": {},
   "source": [
    "Vamos agora treinar um classificador para diferenciar rostos de cachorros. A entrada do nosso classificador é uma matriz **X_std** contendo os histogramas das imagens e a saída esperada será o vetor de rótulos **y**. Se possível, gostaríamos de inferir o rótulo a partir do histograma. \n",
    "\n",
    "Neste exercício usaremos novamente a biblioteca *Scikit Learn*, desta vez com a classe `sklearn.svm.SVC`. Veja [neste link](http://scikit-learn.org/stable/modules/generated/sklearn.svm.SVC.html) a documentação. Estamos particularmente interessados nos métodos `fit` (treina o classificador a partir dos dados acima) e `predict` (classifica uma imagem dado seu histograma).\n",
    "\n",
    "**Exercício**: crie um objeto do tipo `SVC` e treine-o usando as informações obtidas anteriormente. "
   ]
  },
  {
   "cell_type": "code",
   "execution_count": null,
   "metadata": {},
   "outputs": [],
   "source": []
  },
  {
   "cell_type": "markdown",
   "metadata": {},
   "source": [
    "**Exercício**: use o método `predict` para predizer a classe da primeira e da última imagem e interprete os resultados. Não se esqueça de usar os valores armazenados em **X_std**."
   ]
  },
  {
   "cell_type": "code",
   "execution_count": null,
   "metadata": {},
   "outputs": [],
   "source": []
  },
  {
   "cell_type": "markdown",
   "metadata": {},
   "source": [
    "**Exercício**: o que faz o método `score` de `SVC`? Use-o e comente seus resultados."
   ]
  },
  {
   "cell_type": "code",
   "execution_count": null,
   "metadata": {},
   "outputs": [],
   "source": []
  },
  {
   "cell_type": "markdown",
   "metadata": {},
   "source": [
    "# Parte 2 - Avaliação de desempenho\n",
    "\n",
    "Vamos agora avaliar a qualidade de nosso classificador de imagens. Para isto iremos usar as 5 pŕoximas imagens das pastas da parte 1. Nossa taxa de acerto será dada pelo número de imagens classificadas corretamente. Note que, para termos uma estimativa boa do acerto precisamos usar imagens totalmente novas. \n",
    "\n",
    "**Exercício**: usando o classificador treinado na parte 1, leia as imagens do disco e, para cada imagem, classifique-a em cachorro ou rosto. Salve os resultados em um vetor.\n",
    "\n",
    "**Importante**: antes de enviar nossos dados para o classificador fizemos a transformação para deixá-los com média 0 e variância 1. Isto deve ser feito com cada histograma antes de usar o `predict` usando os valores de média e variância encontrados anteriormente. "
   ]
  },
  {
   "cell_type": "code",
   "execution_count": null,
   "metadata": {},
   "outputs": [],
   "source": []
  },
  {
   "cell_type": "markdown",
   "metadata": {},
   "source": [
    "**Exercício**: baseado nos resultados acima, calcule a taxa de acerto do seu classificador."
   ]
  },
  {
   "cell_type": "code",
   "execution_count": null,
   "metadata": {},
   "outputs": [],
   "source": []
  },
  {
   "cell_type": "markdown",
   "metadata": {},
   "source": [
    "**Exercício**: calcule, agora, a taxa de erro das imagens usadas no treinamento do classificador. Seus resultados foram parecidos? "
   ]
  },
  {
   "cell_type": "code",
   "execution_count": null,
   "metadata": {},
   "outputs": [],
   "source": []
  }
 ],
 "metadata": {
  "kernelspec": {
   "display_name": "Python 3",
   "language": "python",
   "name": "python3"
  },
  "language_info": {
   "codemirror_mode": {
    "name": "ipython",
    "version": 3
   },
   "file_extension": ".py",
   "mimetype": "text/x-python",
   "name": "python",
   "nbconvert_exporter": "python",
   "pygments_lexer": "ipython3",
   "version": "3.6.6"
  }
 },
 "nbformat": 4,
 "nbformat_minor": 2
}
